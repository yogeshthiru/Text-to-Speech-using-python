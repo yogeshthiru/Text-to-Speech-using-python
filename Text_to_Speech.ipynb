{
  "nbformat": 4,
  "nbformat_minor": 0,
  "metadata": {
    "colab": {
      "name": "Text_to_Speech.ipynb",
      "provenance": []
    },
    "kernelspec": {
      "name": "python3",
      "display_name": "Python 3"
    }
  },
  "cells": [
    {
      "cell_type": "markdown",
      "metadata": {
        "id": "OpG-ZYPAZkws",
        "colab_type": "text"
      },
      "source": [
        "text to speech convertor.\n",
        "install gTTs library"
      ]
    },
    {
      "cell_type": "code",
      "metadata": {
        "id": "KKIDbUQWZtc1",
        "colab_type": "code",
        "colab": {}
      },
      "source": [
        "pip install gTTS"
      ],
      "execution_count": null,
      "outputs": []
    },
    {
      "cell_type": "code",
      "metadata": {
        "id": "WROKaLLiZw80",
        "colab_type": "code",
        "colab": {}
      },
      "source": [
        "#importing necessary package.\n",
        "from gtts import gTTS  \n",
        "# This module is imported so that we can  \n",
        "# play the converted audio \n",
        "import os \n",
        "#open the text file and read the strings to be stored in variable mytext then the file is closed.\n",
        "with open('input.txt', 'r') as f:\n",
        "   mytext = f.read()\n",
        "f.close()\n",
        "#language en specifies english language\n",
        "language = 'en'\n",
        "#this line convert the text to audio \n",
        "myobj = gTTS(text=mytext, lang=language) \n",
        "  \n",
        "# Saving the converted audio in a mp3 file named input  \n",
        "myobj.save(\"input.mp3\")   \n",
        "# Playing the converted file \n",
        "os.system(\"mpg321 input.mp3\")"
      ],
      "execution_count": null,
      "outputs": []
    }
  ]
}